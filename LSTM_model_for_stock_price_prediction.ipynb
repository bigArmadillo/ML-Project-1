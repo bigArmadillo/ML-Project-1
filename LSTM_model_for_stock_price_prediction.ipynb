{
  "nbformat": 4,
  "nbformat_minor": 0,
  "metadata": {
    "colab": {
      "name": "LSTM_model_for_stock_price_prediction.ipynb",
      "provenance": [],
      "authorship_tag": "ABX9TyNMI/t3t8TIQWNu/YPple2P",
      "include_colab_link": true
    },
    "kernelspec": {
      "name": "python3",
      "display_name": "Python 3"
    },
    "accelerator": "GPU"
  },
  "cells": [
    {
      "cell_type": "markdown",
      "metadata": {
        "id": "view-in-github",
        "colab_type": "text"
      },
      "source": [
        "<a href=\"https://colab.research.google.com/github/bigArmadillo/ML-Project-1/blob/master/LSTM_model_for_stock_price_prediction.ipynb\" target=\"_parent\"><img src=\"https://colab.research.google.com/assets/colab-badge.svg\" alt=\"Open In Colab\"/></a>"
      ]
    },
    {
      "cell_type": "code",
      "metadata": {
        "id": "4-skNeU1n53r"
      },
      "source": [
        "# RECURRENT NEURAL NETWORK\n",
        "\n",
        "#### STEP-1- Data Preprocessing"
      ],
      "execution_count": 1,
      "outputs": []
    },
    {
      "cell_type": "code",
      "metadata": {
        "colab": {
          "resources": {
            "http://localhost:8080/nbextensions/google.colab/files.js": {
              "data": "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",
              "ok": true,
              "headers": [
                [
                  "content-type",
                  "application/javascript"
                ]
              ],
              "status": 200,
              "status_text": ""
            }
          },
          "base_uri": "https://localhost:8080/",
          "height": 142
        },
        "id": "YAjX9JKImNTH",
        "outputId": "060a8e68-c86d-4b6e-dde1-d4a455810794"
      },
      "source": [
        "import numpy as np\n",
        "import pandas as pd\n",
        "import matplotlib.pyplot as plt\n",
        "import seaborn as sns\n",
        "# %matplotlib inline\n",
        "from google.colab import files\n",
        "uploaded = files.upload()\n"
      ],
      "execution_count": 3,
      "outputs": [
        {
          "output_type": "display_data",
          "data": {
            "text/html": [
              "\n",
              "     <input type=\"file\" id=\"files-58f24257-0da4-4141-a4f0-e6e23b15e79d\" name=\"files[]\" multiple disabled\n",
              "        style=\"border:none\" />\n",
              "     <output id=\"result-58f24257-0da4-4141-a4f0-e6e23b15e79d\">\n",
              "      Upload widget is only available when the cell has been executed in the\n",
              "      current browser session. Please rerun this cell to enable.\n",
              "      </output>\n",
              "      <script src=\"/nbextensions/google.colab/files.js\"></script> "
            ],
            "text/plain": [
              "<IPython.core.display.HTML object>"
            ]
          },
          "metadata": {
            "tags": []
          }
        },
        {
          "output_type": "stream",
          "text": [
            "Saving Google_Stock_Price_Test.csv to Google_Stock_Price_Test.csv\n",
            "Saving Google_Stock_Price_Train.csv to Google_Stock_Price_Train.csv\n"
          ],
          "name": "stdout"
        }
      ]
    },
    {
      "cell_type": "code",
      "metadata": {
        "id": "4he6hYoWnl6G"
      },
      "source": [
        "dataset_train = pd.read_csv('Google_Stock_Price_Train.csv')\n",
        "dataset_test  = pd.read_csv('Google_Stock_Price_Test.csv')"
      ],
      "execution_count": 4,
      "outputs": []
    },
    {
      "cell_type": "code",
      "metadata": {
        "colab": {
          "base_uri": "https://localhost:8080/",
          "height": 195
        },
        "id": "GpikZelEnmEe",
        "outputId": "1027d581-4e50-43e9-f78a-08dbaa73695b"
      },
      "source": [
        "dataset_train.head()"
      ],
      "execution_count": 5,
      "outputs": [
        {
          "output_type": "execute_result",
          "data": {
            "text/html": [
              "<div>\n",
              "<style scoped>\n",
              "    .dataframe tbody tr th:only-of-type {\n",
              "        vertical-align: middle;\n",
              "    }\n",
              "\n",
              "    .dataframe tbody tr th {\n",
              "        vertical-align: top;\n",
              "    }\n",
              "\n",
              "    .dataframe thead th {\n",
              "        text-align: right;\n",
              "    }\n",
              "</style>\n",
              "<table border=\"1\" class=\"dataframe\">\n",
              "  <thead>\n",
              "    <tr style=\"text-align: right;\">\n",
              "      <th></th>\n",
              "      <th>Date</th>\n",
              "      <th>Open</th>\n",
              "      <th>High</th>\n",
              "      <th>Low</th>\n",
              "      <th>Close</th>\n",
              "      <th>Volume</th>\n",
              "    </tr>\n",
              "  </thead>\n",
              "  <tbody>\n",
              "    <tr>\n",
              "      <th>0</th>\n",
              "      <td>1/3/2012</td>\n",
              "      <td>325.25</td>\n",
              "      <td>332.83</td>\n",
              "      <td>324.97</td>\n",
              "      <td>663.59</td>\n",
              "      <td>7,380,500</td>\n",
              "    </tr>\n",
              "    <tr>\n",
              "      <th>1</th>\n",
              "      <td>1/4/2012</td>\n",
              "      <td>331.27</td>\n",
              "      <td>333.87</td>\n",
              "      <td>329.08</td>\n",
              "      <td>666.45</td>\n",
              "      <td>5,749,400</td>\n",
              "    </tr>\n",
              "    <tr>\n",
              "      <th>2</th>\n",
              "      <td>1/5/2012</td>\n",
              "      <td>329.83</td>\n",
              "      <td>330.75</td>\n",
              "      <td>326.89</td>\n",
              "      <td>657.21</td>\n",
              "      <td>6,590,300</td>\n",
              "    </tr>\n",
              "    <tr>\n",
              "      <th>3</th>\n",
              "      <td>1/6/2012</td>\n",
              "      <td>328.34</td>\n",
              "      <td>328.77</td>\n",
              "      <td>323.68</td>\n",
              "      <td>648.24</td>\n",
              "      <td>5,405,900</td>\n",
              "    </tr>\n",
              "    <tr>\n",
              "      <th>4</th>\n",
              "      <td>1/9/2012</td>\n",
              "      <td>322.04</td>\n",
              "      <td>322.29</td>\n",
              "      <td>309.46</td>\n",
              "      <td>620.76</td>\n",
              "      <td>11,688,800</td>\n",
              "    </tr>\n",
              "  </tbody>\n",
              "</table>\n",
              "</div>"
            ],
            "text/plain": [
              "       Date    Open    High     Low   Close      Volume\n",
              "0  1/3/2012  325.25  332.83  324.97  663.59   7,380,500\n",
              "1  1/4/2012  331.27  333.87  329.08  666.45   5,749,400\n",
              "2  1/5/2012  329.83  330.75  326.89  657.21   6,590,300\n",
              "3  1/6/2012  328.34  328.77  323.68  648.24   5,405,900\n",
              "4  1/9/2012  322.04  322.29  309.46  620.76  11,688,800"
            ]
          },
          "metadata": {
            "tags": []
          },
          "execution_count": 5
        }
      ]
    },
    {
      "cell_type": "code",
      "metadata": {
        "colab": {
          "base_uri": "https://localhost:8080/"
        },
        "id": "UhgG2iAGnmsC",
        "outputId": "6a682286-ff06-49d5-b1b4-d313173cbe28"
      },
      "source": [
        "dataset_train.info()"
      ],
      "execution_count": 6,
      "outputs": [
        {
          "output_type": "stream",
          "text": [
            "<class 'pandas.core.frame.DataFrame'>\n",
            "RangeIndex: 1258 entries, 0 to 1257\n",
            "Data columns (total 6 columns):\n",
            " #   Column  Non-Null Count  Dtype  \n",
            "---  ------  --------------  -----  \n",
            " 0   Date    1258 non-null   object \n",
            " 1   Open    1258 non-null   float64\n",
            " 2   High    1258 non-null   float64\n",
            " 3   Low     1258 non-null   float64\n",
            " 4   Close   1258 non-null   object \n",
            " 5   Volume  1258 non-null   object \n",
            "dtypes: float64(3), object(3)\n",
            "memory usage: 59.1+ KB\n"
          ],
          "name": "stdout"
        }
      ]
    },
    {
      "cell_type": "code",
      "metadata": {
        "colab": {
          "base_uri": "https://localhost:8080/",
          "height": 284
        },
        "id": "5o8HiGTnnmz5",
        "outputId": "c4c23fe9-93b8-4328-c368-d59c54ee4e2c"
      },
      "source": [
        "dataset_train.describe()"
      ],
      "execution_count": 7,
      "outputs": [
        {
          "output_type": "execute_result",
          "data": {
            "text/html": [
              "<div>\n",
              "<style scoped>\n",
              "    .dataframe tbody tr th:only-of-type {\n",
              "        vertical-align: middle;\n",
              "    }\n",
              "\n",
              "    .dataframe tbody tr th {\n",
              "        vertical-align: top;\n",
              "    }\n",
              "\n",
              "    .dataframe thead th {\n",
              "        text-align: right;\n",
              "    }\n",
              "</style>\n",
              "<table border=\"1\" class=\"dataframe\">\n",
              "  <thead>\n",
              "    <tr style=\"text-align: right;\">\n",
              "      <th></th>\n",
              "      <th>Open</th>\n",
              "      <th>High</th>\n",
              "      <th>Low</th>\n",
              "    </tr>\n",
              "  </thead>\n",
              "  <tbody>\n",
              "    <tr>\n",
              "      <th>count</th>\n",
              "      <td>1258.000000</td>\n",
              "      <td>1258.000000</td>\n",
              "      <td>1258.000000</td>\n",
              "    </tr>\n",
              "    <tr>\n",
              "      <th>mean</th>\n",
              "      <td>533.709833</td>\n",
              "      <td>537.880223</td>\n",
              "      <td>529.007409</td>\n",
              "    </tr>\n",
              "    <tr>\n",
              "      <th>std</th>\n",
              "      <td>151.904442</td>\n",
              "      <td>153.008811</td>\n",
              "      <td>150.552807</td>\n",
              "    </tr>\n",
              "    <tr>\n",
              "      <th>min</th>\n",
              "      <td>279.120000</td>\n",
              "      <td>281.210000</td>\n",
              "      <td>277.220000</td>\n",
              "    </tr>\n",
              "    <tr>\n",
              "      <th>25%</th>\n",
              "      <td>404.115000</td>\n",
              "      <td>406.765000</td>\n",
              "      <td>401.765000</td>\n",
              "    </tr>\n",
              "    <tr>\n",
              "      <th>50%</th>\n",
              "      <td>537.470000</td>\n",
              "      <td>540.750000</td>\n",
              "      <td>532.990000</td>\n",
              "    </tr>\n",
              "    <tr>\n",
              "      <th>75%</th>\n",
              "      <td>654.922500</td>\n",
              "      <td>662.587500</td>\n",
              "      <td>644.800000</td>\n",
              "    </tr>\n",
              "    <tr>\n",
              "      <th>max</th>\n",
              "      <td>816.680000</td>\n",
              "      <td>816.680000</td>\n",
              "      <td>805.140000</td>\n",
              "    </tr>\n",
              "  </tbody>\n",
              "</table>\n",
              "</div>"
            ],
            "text/plain": [
              "              Open         High          Low\n",
              "count  1258.000000  1258.000000  1258.000000\n",
              "mean    533.709833   537.880223   529.007409\n",
              "std     151.904442   153.008811   150.552807\n",
              "min     279.120000   281.210000   277.220000\n",
              "25%     404.115000   406.765000   401.765000\n",
              "50%     537.470000   540.750000   532.990000\n",
              "75%     654.922500   662.587500   644.800000\n",
              "max     816.680000   816.680000   805.140000"
            ]
          },
          "metadata": {
            "tags": []
          },
          "execution_count": 7
        }
      ]
    },
    {
      "cell_type": "code",
      "metadata": {
        "colab": {
          "base_uri": "https://localhost:8080/"
        },
        "id": "0xKUWOJunm68",
        "outputId": "96f83f6a-72a9-4065-fd82-b2ab0fb46519"
      },
      "source": [
        "dataset_train.isnull().any()"
      ],
      "execution_count": 8,
      "outputs": [
        {
          "output_type": "execute_result",
          "data": {
            "text/plain": [
              "Date      False\n",
              "Open      False\n",
              "High      False\n",
              "Low       False\n",
              "Close     False\n",
              "Volume    False\n",
              "dtype: bool"
            ]
          },
          "metadata": {
            "tags": []
          },
          "execution_count": 8
        }
      ]
    },
    {
      "cell_type": "code",
      "metadata": {
        "colab": {
          "base_uri": "https://localhost:8080/",
          "height": 34
        },
        "id": "eBnsOi6FnnBt",
        "outputId": "57cc2dff-c41e-4eda-a13b-6b4668d7c1e2"
      },
      "source": [
        "plt.style.use('ggplot')\n",
        "\n",
        "sns.set_style('whitegrid')"
      ],
      "execution_count": 20,
      "outputs": [
        {
          "output_type": "display_data",
          "data": {
            "text/plain": [
              "<Figure size 1800x1080 with 0 Axes>"
            ]
          },
          "metadata": {
            "tags": []
          }
        }
      ]
    },
    {
      "cell_type": "code",
      "metadata": {
        "colab": {
          "base_uri": "https://localhost:8080/",
          "height": 474
        },
        "id": "bB117kRonnIu",
        "outputId": "53eb4c84-5f55-49ff-a46a-7bc5f4793ac8"
      },
      "source": [
        "plt.figure(figsize=(25,15))\n",
        "sns.lineplot(dataset_train['Date'].iloc[:500],dataset_train['Open'].iloc[:500])"
      ],
      "execution_count": 23,
      "outputs": [
        {
          "output_type": "stream",
          "text": [
            "/usr/local/lib/python3.6/dist-packages/seaborn/_decorators.py:43: FutureWarning: Pass the following variables as keyword args: x, y. From version 0.12, the only valid positional argument will be `data`, and passing other arguments without an explicit keyword will result in an error or misinterpretation.\n",
            "  FutureWarning\n"
          ],
          "name": "stderr"
        },
        {
          "output_type": "execute_result",
          "data": {
            "text/plain": [
              "<matplotlib.axes._subplots.AxesSubplot at 0x7fe4fc031cf8>"
            ]
          },
          "metadata": {
            "tags": []
          },
          "execution_count": 23
        },
        {
          "output_type": "display_data",
          "data": {
            "image/png": "[encoded data removed]",
            "text/plain": [
              "<Figure size 1800x1080 with 1 Axes>"
            ]
          },
          "metadata": {
            "tags": []
          }
        }
      ]
    },
    {
      "cell_type": "code",
      "metadata": {
        "id": "Ae4hJH0_nnO5"
      },
      "source": [
        "training_set = dataset_train.iloc[:,1:2].values"
      ],
      "execution_count": 24,
      "outputs": []
    },
    {
      "cell_type": "code",
      "metadata": {
        "id": "GYRjOZ3CnnVY"
      },
      "source": [
        "# .iloc[:,1] will create a vector while above code will create a numPy array"
      ],
      "execution_count": 25,
      "outputs": []
    },
    {
      "cell_type": "code",
      "metadata": {
        "colab": {
          "base_uri": "https://localhost:8080/"
        },
        "id": "Fyo1f0etnnas",
        "outputId": "f7c4a1da-483e-4098-ddb9-35c7bf529986"
      },
      "source": [
        "training_set.shape"
      ],
      "execution_count": 26,
      "outputs": [
        {
          "output_type": "execute_result",
          "data": {
            "text/plain": [
              "(1258, 1)"
            ]
          },
          "metadata": {
            "tags": []
          },
          "execution_count": 26
        }
      ]
    },
    {
      "cell_type": "code",
      "metadata": {
        "id": "-8CWrOLznngq"
      },
      "source": [
        "## Feature scaling\n",
        "from sklearn.preprocessing import MinMaxScaler\n",
        "sc = MinMaxScaler()\n",
        "training_set_scaled = sc.fit_transform(training_set)\n"
      ],
      "execution_count": 27,
      "outputs": []
    },
    {
      "cell_type": "code",
      "metadata": {
        "colab": {
          "base_uri": "https://localhost:8080/"
        },
        "id": "4iso11Sonnmq",
        "outputId": "f3cc75de-9103-4261-c9c4-77c9000e36ff"
      },
      "source": [
        "training_set_scaled"
      ],
      "execution_count": 28,
      "outputs": [
        {
          "output_type": "execute_result",
          "data": {
            "text/plain": [
              "array([[0.08581368],\n",
              "       [0.09701243],\n",
              "       [0.09433366],\n",
              "       ...,\n",
              "       [0.95725128],\n",
              "       [0.93796041],\n",
              "       [0.93688146]])"
            ]
          },
          "metadata": {
            "tags": []
          },
          "execution_count": 28
        }
      ]
    },
    {
      "cell_type": "code",
      "metadata": {
        "id": "FXuHOuM9nnsn"
      },
      "source": [
        "## Creating a data structure with ~60 time steps and 1 output"
      ],
      "execution_count": 29,
      "outputs": []
    },
    {
      "cell_type": "code",
      "metadata": {
        "id": "67sB1DAennyz"
      },
      "source": [
        "X_train = []\n",
        "y_train = []\n",
        "for i in range(60,1258):\n",
        "  X_train.append(training_set_scaled[i-60:i,0])\n",
        "  y_train.append(training_set_scaled[i,0])\n",
        "X_train, y_train = np.array(X_train), np.array(y_train)"
      ],
      "execution_count": 30,
      "outputs": []
    },
    {
      "cell_type": "code",
      "metadata": {
        "colab": {
          "base_uri": "https://localhost:8080/"
        },
        "id": "MVp_lVMpnn37",
        "outputId": "1c430681-f0c9-4c02-9ad1-9fea7a5a7ab4"
      },
      "source": [
        "X_train.shape"
      ],
      "execution_count": 31,
      "outputs": [
        {
          "output_type": "execute_result",
          "data": {
            "text/plain": [
              "(1198, 60)"
            ]
          },
          "metadata": {
            "tags": []
          },
          "execution_count": 31
        }
      ]
    },
    {
      "cell_type": "code",
      "metadata": {
        "colab": {
          "base_uri": "https://localhost:8080/"
        },
        "id": "YJVZg4kKnn9D",
        "outputId": "fd6e0329-23fa-4e17-f29d-8719925f11a9"
      },
      "source": [
        "y_train.shape"
      ],
      "execution_count": 32,
      "outputs": [
        {
          "output_type": "execute_result",
          "data": {
            "text/plain": [
              "(1198,)"
            ]
          },
          "metadata": {
            "tags": []
          },
          "execution_count": 32
        }
      ]
    },
    {
      "cell_type": "code",
      "metadata": {
        "id": "TqpDT8ZknoC3"
      },
      "source": [
        "## Reshaping the dataset"
      ],
      "execution_count": 33,
      "outputs": []
    },
    {
      "cell_type": "code",
      "metadata": {
        "id": "_2bql3gZnoI-"
      },
      "source": [
        "# refer keras documentation->recurrent layers\n",
        "# no of stock prices, no of timesteps, no of indicators\n",
        "X_train = np.reshape(X_train,(X_train.shape[0],X_train.shape[1],1))"
      ],
      "execution_count": 34,
      "outputs": []
    },
    {
      "cell_type": "code",
      "metadata": {
        "colab": {
          "base_uri": "https://localhost:8080/"
        },
        "id": "rJ99BDHqnoM9",
        "outputId": "12e025f5-82b2-4539-80f2-d55ff3da3693"
      },
      "source": [
        "X_train.shape"
      ],
      "execution_count": 35,
      "outputs": [
        {
          "output_type": "execute_result",
          "data": {
            "text/plain": [
              "(1198, 60, 1)"
            ]
          },
          "metadata": {
            "tags": []
          },
          "execution_count": 35
        }
      ]
    },
    {
      "cell_type": "code",
      "metadata": {
        "id": "wKTy_veVnoXs"
      },
      "source": [
        ""
      ],
      "execution_count": 35,
      "outputs": []
    },
    {
      "cell_type": "code",
      "metadata": {
        "id": "06w26PGYnodj"
      },
      "source": [
        "#### STEP-2 Building and training the RNN model"
      ],
      "execution_count": 36,
      "outputs": []
    },
    {
      "cell_type": "code",
      "metadata": {
        "id": "uyLVfdBynoiC"
      },
      "source": [
        "#Importing keras library and packages\n",
        "from keras.models import Sequential\n",
        "from keras.layers import Dense\n",
        "from keras.layers import LSTM\n",
        "from keras.layers import Dropout"
      ],
      "execution_count": 37,
      "outputs": []
    },
    {
      "cell_type": "code",
      "metadata": {
        "id": "LpZyJq_anop9"
      },
      "source": [
        "#Initializing the RNN\n",
        "regressor = Sequential()\n"
      ],
      "execution_count": 38,
      "outputs": []
    },
    {
      "cell_type": "code",
      "metadata": {
        "id": "I-JGVJvtnouh"
      },
      "source": [
        "#Adding the first LSTM layer and some Droput regularization\n",
        "regressor.add(LSTM(units=50, return_sequences=True, input_shape=(X_train.shape[1],1))) #input_shape=last 2 of x_train\n",
        "regressor.add(Dropout(0.2))"
      ],
      "execution_count": 39,
      "outputs": []
    },
    {
      "cell_type": "code",
      "metadata": {
        "id": "oZUaewSmno0K"
      },
      "source": [
        "#Adding a second LSTM layer and some Droput regularization\n",
        "regressor.add(LSTM(units=50, return_sequences=True)) #units=no. of neurons in this layer\n",
        "regressor.add(Dropout(0.2))"
      ],
      "execution_count": 40,
      "outputs": []
    },
    {
      "cell_type": "code",
      "metadata": {
        "id": "al1WC5Y8no40"
      },
      "source": [
        "#Adding a third LSTM layer and some Droput regularization\n",
        "regressor.add(LSTM(units=50, return_sequences=True))\n",
        "regressor.add(Dropout(0.2))"
      ],
      "execution_count": 41,
      "outputs": []
    },
    {
      "cell_type": "code",
      "metadata": {
        "id": "h5OkGnQPno_Z"
      },
      "source": [
        "#Adding a fourth LSTM layer and some Droput regularization\n",
        "regressor.add(LSTM(units=50))\n",
        "regressor.add(Dropout(0.2))"
      ],
      "execution_count": 42,
      "outputs": []
    },
    {
      "cell_type": "code",
      "metadata": {
        "id": "AwJEW_t9npDH"
      },
      "source": [
        "#Adding the output layer\n",
        "regressor.add(Dense(units=1))"
      ],
      "execution_count": 43,
      "outputs": []
    },
    {
      "cell_type": "code",
      "metadata": {
        "id": "nJ1rPB039ACR"
      },
      "source": [
        ""
      ],
      "execution_count": 43,
      "outputs": []
    },
    {
      "cell_type": "code",
      "metadata": {
        "id": "p1yP2gSO9ANU"
      },
      "source": [
        "#Compiling the RNN\n",
        "regressor.compile(optimizer='adam',loss='mean_squared_error')"
      ],
      "execution_count": 44,
      "outputs": []
    },
    {
      "cell_type": "code",
      "metadata": {
        "colab": {
          "base_uri": "https://localhost:8080/"
        },
        "id": "-pi3mugq9AVT",
        "outputId": "fa1222f9-496f-452b-f903-fd02ca2d61cf"
      },
      "source": [
        "#Fitting the RNN to the training set\n",
        "regressor.fit(x=X_train, y=y_train, batch_size=32 , epochs=100 )"
      ],
      "execution_count": 45,
      "outputs": [
        {
          "output_type": "stream",
          "text": [
            "Epoch 1/100\n",
            "38/38 [==============================] - 2s 55ms/step - loss: 0.0374\n",
            "Epoch 2/100\n",
            "38/38 [==============================] - 2s 55ms/step - loss: 0.0065\n",
            "Epoch 3/100\n",
            "38/38 [==============================] - 2s 56ms/step - loss: 0.0064\n",
            "Epoch 4/100\n",
            "38/38 [==============================] - 2s 55ms/step - loss: 0.0070\n",
            "Epoch 5/100\n",
            "38/38 [==============================] - 2s 55ms/step - loss: 0.0050\n",
            "Epoch 6/100\n",
            "38/38 [==============================] - 2s 56ms/step - loss: 0.0051\n",
            "Epoch 7/100\n",
            "38/38 [==============================] - 2s 55ms/step - loss: 0.0048\n",
            "Epoch 8/100\n",
            "38/38 [==============================] - 2s 55ms/step - loss: 0.0048\n",
            "Epoch 9/100\n",
            "38/38 [==============================] - 2s 56ms/step - loss: 0.0052\n",
            "Epoch 10/100\n",
            "38/38 [==============================] - 2s 55ms/step - loss: 0.0053\n",
            "Epoch 11/100\n",
            "38/38 [==============================] - 2s 55ms/step - loss: 0.0041\n",
            "Epoch 12/100\n",
            "38/38 [==============================] - 2s 56ms/step - loss: 0.0043\n",
            "Epoch 13/100\n",
            "38/38 [==============================] - 2s 54ms/step - loss: 0.0039\n",
            "Epoch 14/100\n",
            "38/38 [==============================] - 2s 55ms/step - loss: 0.0038\n",
            "Epoch 15/100\n",
            "38/38 [==============================] - 2s 55ms/step - loss: 0.0053\n",
            "Epoch 16/100\n",
            "38/38 [==============================] - 2s 55ms/step - loss: 0.0038\n",
            "Epoch 17/100\n",
            "38/38 [==============================] - 2s 56ms/step - loss: 0.0040\n",
            "Epoch 18/100\n",
            "38/38 [==============================] - 2s 56ms/step - loss: 0.0037\n",
            "Epoch 19/100\n",
            "38/38 [==============================] - 2s 54ms/step - loss: 0.0037\n",
            "Epoch 20/100\n",
            "38/38 [==============================] - 2s 56ms/step - loss: 0.0043\n",
            "Epoch 21/100\n",
            "38/38 [==============================] - 2s 56ms/step - loss: 0.0034\n",
            "Epoch 22/100\n",
            "38/38 [==============================] - 2s 56ms/step - loss: 0.0036\n",
            "Epoch 23/100\n",
            "38/38 [==============================] - 2s 54ms/step - loss: 0.0031\n",
            "Epoch 24/100\n",
            "38/38 [==============================] - 2s 54ms/step - loss: 0.0034\n",
            "Epoch 25/100\n",
            "38/38 [==============================] - 2s 55ms/step - loss: 0.0034\n",
            "Epoch 26/100\n",
            "38/38 [==============================] - 2s 55ms/step - loss: 0.0031\n",
            "Epoch 27/100\n",
            "38/38 [==============================] - 2s 56ms/step - loss: 0.0031\n",
            "Epoch 28/100\n",
            "38/38 [==============================] - 2s 56ms/step - loss: 0.0031\n",
            "Epoch 29/100\n",
            "38/38 [==============================] - 2s 55ms/step - loss: 0.0034\n",
            "Epoch 30/100\n",
            "38/38 [==============================] - 2s 56ms/step - loss: 0.0032\n",
            "Epoch 31/100\n",
            "38/38 [==============================] - 2s 56ms/step - loss: 0.0031\n",
            "Epoch 32/100\n",
            "38/38 [==============================] - 2s 56ms/step - loss: 0.0032\n",
            "Epoch 33/100\n",
            "38/38 [==============================] - 2s 54ms/step - loss: 0.0031\n",
            "Epoch 34/100\n",
            "38/38 [==============================] - 2s 55ms/step - loss: 0.0026\n",
            "Epoch 35/100\n",
            "38/38 [==============================] - 2s 54ms/step - loss: 0.0027\n",
            "Epoch 36/100\n",
            "38/38 [==============================] - 2s 54ms/step - loss: 0.0027\n",
            "Epoch 37/100\n",
            "38/38 [==============================] - 2s 55ms/step - loss: 0.0029\n",
            "Epoch 38/100\n",
            "38/38 [==============================] - 2s 55ms/step - loss: 0.0030\n",
            "Epoch 39/100\n",
            "38/38 [==============================] - 2s 55ms/step - loss: 0.0025\n",
            "Epoch 40/100\n",
            "38/38 [==============================] - 2s 56ms/step - loss: 0.0024\n",
            "Epoch 41/100\n",
            "38/38 [==============================] - 2s 55ms/step - loss: 0.0027\n",
            "Epoch 42/100\n",
            "38/38 [==============================] - 2s 55ms/step - loss: 0.0032\n",
            "Epoch 43/100\n",
            "38/38 [==============================] - 2s 55ms/step - loss: 0.0024\n",
            "Epoch 44/100\n",
            "38/38 [==============================] - 2s 55ms/step - loss: 0.0024\n",
            "Epoch 45/100\n",
            "38/38 [==============================] - 2s 55ms/step - loss: 0.0026\n",
            "Epoch 46/100\n",
            "38/38 [==============================] - 2s 55ms/step - loss: 0.0024\n",
            "Epoch 47/100\n",
            "38/38 [==============================] - 2s 55ms/step - loss: 0.0023\n",
            "Epoch 48/100\n",
            "38/38 [==============================] - 2s 56ms/step - loss: 0.0025\n",
            "Epoch 49/100\n",
            "38/38 [==============================] - 2s 56ms/step - loss: 0.0024\n",
            "Epoch 50/100\n",
            "38/38 [==============================] - 2s 56ms/step - loss: 0.0023\n",
            "Epoch 51/100\n",
            "38/38 [==============================] - 2s 55ms/step - loss: 0.0026\n",
            "Epoch 52/100\n",
            "38/38 [==============================] - 2s 56ms/step - loss: 0.0023\n",
            "Epoch 53/100\n",
            "38/38 [==============================] - 2s 55ms/step - loss: 0.0020\n",
            "Epoch 54/100\n",
            "38/38 [==============================] - 2s 55ms/step - loss: 0.0021\n",
            "Epoch 55/100\n",
            "38/38 [==============================] - 2s 56ms/step - loss: 0.0024\n",
            "Epoch 56/100\n",
            "38/38 [==============================] - 2s 55ms/step - loss: 0.0025\n",
            "Epoch 57/100\n",
            "38/38 [==============================] - 2s 56ms/step - loss: 0.0021\n",
            "Epoch 58/100\n",
            "38/38 [==============================] - 2s 56ms/step - loss: 0.0022\n",
            "Epoch 59/100\n",
            "38/38 [==============================] - 2s 55ms/step - loss: 0.0020\n",
            "Epoch 60/100\n",
            "38/38 [==============================] - 2s 55ms/step - loss: 0.0020\n",
            "Epoch 61/100\n",
            "38/38 [==============================] - 2s 56ms/step - loss: 0.0020\n",
            "Epoch 62/100\n",
            "38/38 [==============================] - 2s 56ms/step - loss: 0.0022\n",
            "Epoch 63/100\n",
            "38/38 [==============================] - 2s 56ms/step - loss: 0.0021\n",
            "Epoch 64/100\n",
            "38/38 [==============================] - 2s 55ms/step - loss: 0.0023\n",
            "Epoch 65/100\n",
            "38/38 [==============================] - 2s 56ms/step - loss: 0.0018\n",
            "Epoch 66/100\n",
            "38/38 [==============================] - 2s 55ms/step - loss: 0.0021\n",
            "Epoch 67/100\n",
            "38/38 [==============================] - 2s 56ms/step - loss: 0.0019\n",
            "Epoch 68/100\n",
            "38/38 [==============================] - 2s 55ms/step - loss: 0.0017\n",
            "Epoch 69/100\n",
            "38/38 [==============================] - 2s 56ms/step - loss: 0.0018\n",
            "Epoch 70/100\n",
            "38/38 [==============================] - 2s 55ms/step - loss: 0.0018\n",
            "Epoch 71/100\n",
            "38/38 [==============================] - 2s 56ms/step - loss: 0.0022\n",
            "Epoch 72/100\n",
            "38/38 [==============================] - 2s 55ms/step - loss: 0.0019\n",
            "Epoch 73/100\n",
            "38/38 [==============================] - 2s 55ms/step - loss: 0.0018\n",
            "Epoch 74/100\n",
            "38/38 [==============================] - 2s 57ms/step - loss: 0.0015\n",
            "Epoch 75/100\n",
            "38/38 [==============================] - 2s 56ms/step - loss: 0.0017\n",
            "Epoch 76/100\n",
            "38/38 [==============================] - 2s 55ms/step - loss: 0.0018\n",
            "Epoch 77/100\n",
            "38/38 [==============================] - 2s 57ms/step - loss: 0.0018\n",
            "Epoch 78/100\n",
            "38/38 [==============================] - 2s 56ms/step - loss: 0.0017\n",
            "Epoch 79/100\n",
            "38/38 [==============================] - 2s 55ms/step - loss: 0.0019\n",
            "Epoch 80/100\n",
            "38/38 [==============================] - 2s 55ms/step - loss: 0.0016\n",
            "Epoch 81/100\n",
            "38/38 [==============================] - 2s 55ms/step - loss: 0.0017\n",
            "Epoch 82/100\n",
            "38/38 [==============================] - 2s 56ms/step - loss: 0.0016\n",
            "Epoch 83/100\n",
            "38/38 [==============================] - 2s 56ms/step - loss: 0.0015\n",
            "Epoch 84/100\n",
            "38/38 [==============================] - 2s 55ms/step - loss: 0.0017\n",
            "Epoch 85/100\n",
            "38/38 [==============================] - 2s 55ms/step - loss: 0.0016\n",
            "Epoch 86/100\n",
            "38/38 [==============================] - 2s 56ms/step - loss: 0.0016\n",
            "Epoch 87/100\n",
            "38/38 [==============================] - 2s 56ms/step - loss: 0.0015\n",
            "Epoch 88/100\n",
            "38/38 [==============================] - 2s 55ms/step - loss: 0.0016\n",
            "Epoch 89/100\n",
            "38/38 [==============================] - 2s 56ms/step - loss: 0.0015\n",
            "Epoch 90/100\n",
            "38/38 [==============================] - 2s 57ms/step - loss: 0.0017\n",
            "Epoch 91/100\n",
            "38/38 [==============================] - 2s 56ms/step - loss: 0.0014\n",
            "Epoch 92/100\n",
            "38/38 [==============================] - 2s 56ms/step - loss: 0.0014\n",
            "Epoch 93/100\n",
            "38/38 [==============================] - 2s 55ms/step - loss: 0.0015\n",
            "Epoch 94/100\n",
            "38/38 [==============================] - 2s 57ms/step - loss: 0.0015\n",
            "Epoch 95/100\n",
            "38/38 [==============================] - 2s 57ms/step - loss: 0.0013\n",
            "Epoch 96/100\n",
            "38/38 [==============================] - 2s 56ms/step - loss: 0.0015\n",
            "Epoch 97/100\n",
            "38/38 [==============================] - 2s 54ms/step - loss: 0.0015\n",
            "Epoch 98/100\n",
            "38/38 [==============================] - 2s 56ms/step - loss: 0.0017\n",
            "Epoch 99/100\n",
            "38/38 [==============================] - 2s 55ms/step - loss: 0.0015\n",
            "Epoch 100/100\n",
            "38/38 [==============================] - 2s 56ms/step - loss: 0.0014\n"
          ],
          "name": "stdout"
        },
        {
          "output_type": "execute_result",
          "data": {
            "text/plain": [
              "<tensorflow.python.keras.callbacks.History at 0x7fe47277dfd0>"
            ]
          },
          "metadata": {
            "tags": []
          },
          "execution_count": 45
        }
      ]
    },
    {
      "cell_type": "code",
      "metadata": {
        "id": "_Q8EiqfV9AdK"
      },
      "source": [
        ""
      ],
      "execution_count": null,
      "outputs": []
    },
    {
      "cell_type": "code",
      "metadata": {
        "id": "lNTVP2ts9Aky"
      },
      "source": [
        ""
      ],
      "execution_count": 46,
      "outputs": []
    },
    {
      "cell_type": "code",
      "metadata": {
        "id": "9jjkcYUw9Arv"
      },
      "source": [
        "#### Step-3 Making the predictions and visualizing the results"
      ],
      "execution_count": null,
      "outputs": []
    },
    {
      "cell_type": "code",
      "metadata": {
        "id": "ogbnT4N39Ayb"
      },
      "source": [
        "real_stock_price = dataset_test.iloc[:, 1:2].values"
      ],
      "execution_count": 47,
      "outputs": []
    },
    {
      "cell_type": "code",
      "metadata": {
        "id": "nXoW8s_h9A4x"
      },
      "source": [
        "#We have trained our model on 1Jan,2012 to 31Dec,2016 and\n",
        "# gonna predict the stock prices of the month Jan,2017"
      ],
      "execution_count": null,
      "outputs": []
    },
    {
      "cell_type": "code",
      "metadata": {
        "id": "ulGptewD9A_T"
      },
      "source": [
        ""
      ],
      "execution_count": null,
      "outputs": []
    },
    {
      "cell_type": "code",
      "metadata": {
        "id": "wsLQ2V1i9BFh"
      },
      "source": [
        "#Getting the predicted stock price of January,2017\n",
        "###########################Important Steps Below############################"
      ],
      "execution_count": null,
      "outputs": []
    },
    {
      "cell_type": "code",
      "metadata": {
        "id": "yAIwU32i9BLu"
      },
      "source": [
        "dataset_total = pd.concat((dataset_train['Open'],dataset_test['Open']), axis=0)\n",
        "inputs = dataset_total[len(dataset_total) - len(dataset_test) - 60: ].values\n"
      ],
      "execution_count": 48,
      "outputs": []
    },
    {
      "cell_type": "code",
      "metadata": {
        "colab": {
          "base_uri": "https://localhost:8080/"
        },
        "id": "MClTOJhU9BSD",
        "outputId": "92a8edb7-19be-470d-eef8-a5b9ca582ab0"
      },
      "source": [
        " inputs.shape"
      ],
      "execution_count": 49,
      "outputs": [
        {
          "output_type": "execute_result",
          "data": {
            "text/plain": [
              "(80,)"
            ]
          },
          "metadata": {
            "tags": []
          },
          "execution_count": 49
        }
      ]
    },
    {
      "cell_type": "code",
      "metadata": {
        "id": "VGiD5peX9BZA"
      },
      "source": [
        "inputs = inputs.reshape(-1,1)"
      ],
      "execution_count": 50,
      "outputs": []
    },
    {
      "cell_type": "code",
      "metadata": {
        "colab": {
          "base_uri": "https://localhost:8080/"
        },
        "id": "aPF18_tf9BfP",
        "outputId": "4c5fded9-6f41-47d1-d581-290cc7e89789"
      },
      "source": [
        "#In order to convert into 3D shape, it's needed\n",
        "inputs.shape"
      ],
      "execution_count": 51,
      "outputs": [
        {
          "output_type": "execute_result",
          "data": {
            "text/plain": [
              "(80, 1)"
            ]
          },
          "metadata": {
            "tags": []
          },
          "execution_count": 51
        }
      ]
    },
    {
      "cell_type": "code",
      "metadata": {
        "id": "SCudjNLc9BlC"
      },
      "source": [
        "##Scaling the input\n",
        "inputs = sc.transform(inputs)\n"
      ],
      "execution_count": 52,
      "outputs": []
    },
    {
      "cell_type": "code",
      "metadata": {
        "id": "RfiOWR_b9BqP"
      },
      "source": [
        "#Convert into 3D format\n",
        "X_test = []\n",
        "for i in range(60,80):\n",
        "  X_test.append(inputs[i-60:i,0])\n",
        "X_test = np.array(X_test)"
      ],
      "execution_count": 53,
      "outputs": []
    },
    {
      "cell_type": "code",
      "metadata": {
        "id": "xJgaKTDA9Bwd"
      },
      "source": [
        "X_test = np.reshape(X_test, (X_test.shape[0],X_test.shape[1],1))"
      ],
      "execution_count": 54,
      "outputs": []
    },
    {
      "cell_type": "code",
      "metadata": {
        "id": "FuG0_fHe9B1-"
      },
      "source": [
        "predicted_stock_price = regressor.predict(X_test)\n",
        "predicted_stock_price = sc.inverse_transform(predicted_stock_price)"
      ],
      "execution_count": 55,
      "outputs": []
    },
    {
      "cell_type": "code",
      "metadata": {
        "colab": {
          "base_uri": "https://localhost:8080/"
        },
        "id": "sa1ksYz79B8L",
        "outputId": "38e530d2-9c66-49b6-ef7d-26b8c43c4b58"
      },
      "source": [
        "predicted_stock_price.shape"
      ],
      "execution_count": 57,
      "outputs": [
        {
          "output_type": "execute_result",
          "data": {
            "text/plain": [
              "(20, 1)"
            ]
          },
          "metadata": {
            "tags": []
          },
          "execution_count": 57
        }
      ]
    },
    {
      "cell_type": "code",
      "metadata": {
        "id": "0oRmQ5dWPVPy"
      },
      "source": [
        ""
      ],
      "execution_count": null,
      "outputs": []
    },
    {
      "cell_type": "code",
      "metadata": {
        "id": "f7H0imNAPY3f"
      },
      "source": [
        "#Visualizing the results"
      ],
      "execution_count": null,
      "outputs": []
    },
    {
      "cell_type": "code",
      "metadata": {
        "colab": {
          "base_uri": "https://localhost:8080/",
          "height": 317
        },
        "id": "8YYDCfpEPZdp",
        "outputId": "e5099250-1dc0-48a1-bd1a-d131c10652d2"
      },
      "source": [
        "plt.plot(real_stock_price,color='green',label='real_stock_price')\n",
        "plt.plot(predicted_stock_price,color='red',label='predicted_stock_price')\n",
        "plt.xlabel('time')\n",
        "plt.ylabel('stock price')\n",
        "plt.title('Google stock price prediction')\n",
        "plt.legend()"
      ],
      "execution_count": 62,
      "outputs": [
        {
          "output_type": "execute_result",
          "data": {
            "text/plain": [
              "<matplotlib.legend.Legend at 0x7fe46e689390>"
            ]
          },
          "metadata": {
            "tags": []
          },
          "execution_count": 62
        },
        {
          "output_type": "display_data",
          "data": {
            "image/png": "[encoded data removed]",
            "text/plain": [
              "<Figure size 432x288 with 1 Axes>"
            ]
          },
          "metadata": {
            "tags": []
          }
        }
      ]
    },
    {
      "cell_type": "code",
      "metadata": {
        "id": "8wIEY0__PZnQ"
      },
      "source": [
        ""
      ],
      "execution_count": null,
      "outputs": []
    },
    {
      "cell_type": "code",
      "metadata": {
        "id": "APKowgl4PZs3"
      },
      "source": [
        ""
      ],
      "execution_count": null,
      "outputs": []
    },
    {
      "cell_type": "code",
      "metadata": {
        "id": "armhh038PZ1a"
      },
      "source": [
        ""
      ],
      "execution_count": null,
      "outputs": []
    }
  ]
}