{
  "nbformat": 4,
  "nbformat_minor": 0,
  "metadata": {
    "colab": {
      "name": "Music_Generation_with_LSTM.ipynb",
      "provenance": [],
      "collapsed_sections": []
    },
    "kernelspec": {
      "name": "python3",
      "display_name": "Python 3"
    }
  },
  "cells": [
    {
      "cell_type": "code",
      "metadata": {
        "id": "0ytZVpWdAJ3d"
      },
      "source": [
        "## Importing Libraries"
      ],
      "execution_count": 1,
      "outputs": []
    },
    {
      "cell_type": "code",
      "metadata": {
        "id": "GhgeYCo134bi"
      },
      "source": [
        "from __future__ import print_function\n",
        "import IPython\n",
        "import sys\n",
        "from music21 import *\n",
        "import numpy as np\n",
        "from grammar import *\n",
        "from qa import *\n",
        "from preprocess import * \n",
        "from music_utils import *\n",
        "from data_utils import *\n",
        "from keras.models import load_model, Model\n",
        "from keras.layers import Dense, Activation, Dropout, Input, LSTM, Reshape, Lambda, RepeatVector\n",
        "from keras.initializers import glorot_uniform\n",
        "from keras.utils import to_categorical\n",
        "from keras.optimizers import Adam\n",
        "from keras import backend as K"
      ],
      "execution_count": 6,
      "outputs": []
    },
    {
      "cell_type": "code",
      "metadata": {
        "id": "mLZEfFoY35rU"
      },
      "source": [
        "IPython.display.Audio('./data/30s_seq.mp3')"
      ],
      "execution_count": 7,
      "outputs": []
    },
    {
      "cell_type": "code",
      "metadata": {
        "id": "cfQe_g3g354a"
      },
      "source": [
        "X, Y, n_values, indices_values = load_music_utils()\n",
        "print('number of training examples:', X.shape[0])\n",
        "print('Tx (length of sequence):', X.shape[1])\n",
        "print('total # of unique values:', n_values)\n",
        "print('shape of X:', X.shape)\n",
        "print('Shape of Y:', Y.shape)"
      ],
      "execution_count": null,
      "outputs": []
    },
    {
      "cell_type": "code",
      "metadata": {
        "id": "VGMqBVpp35_P"
      },
      "source": [
        "# number of dimensions for the hidden state of each LSTM cell.\n",
        "n_a = 64 \n",
        "n_values = 78 # number of music values\n",
        "reshapor = Reshape((1, n_values))                        \n",
        "LSTM_cell = LSTM(n_a, return_state = True)        \n",
        "densor = Dense(n_values, activation='softmax')    "
      ],
      "execution_count": null,
      "outputs": []
    },
    {
      "cell_type": "code",
      "metadata": {
        "id": "ZzhFWB4B36Ej"
      },
      "source": [
        "def djmodel(Tx, n_a, n_values):\n",
        "    \n",
        "    X = Input(shape=(Tx, n_values))\n",
        "    \n",
        "    a0 = Input(shape=(n_a,), name='a0')\n",
        "    c0 = Input(shape=(n_a,), name='c0')\n",
        "    a = a0\n",
        "    c = c0\n",
        "    \n",
        "    outputs = []\n",
        "    \n",
        "    for t in range(Tx):\n",
        "        \n",
        "        x = Lambda(lambda x: X[:,t,:])(X)\n",
        "        x = reshapor(x)\n",
        "        a, _, c = LSTM_cell(x, initial_state=[c, a])\n",
        "        out = densor(a)\n",
        "        outputs.append(out)\n",
        "      \n",
        "    model = Model(inputs= [X,a0,c0], outputs=outputs)\n",
        "    \n",
        "    return model"
      ],
      "execution_count": null,
      "outputs": []
    },
    {
      "cell_type": "code",
      "metadata": {
        "id": "F1FfxHTd36Jn"
      },
      "source": [
        "model = djmodel(Tx = 30 , n_a = 64, n_values = 78)\n",
        "model.summary()"
      ],
      "execution_count": null,
      "outputs": []
    },
    {
      "cell_type": "code",
      "metadata": {
        "id": "-S_35HxG36OW"
      },
      "source": [
        ""
      ],
      "execution_count": null,
      "outputs": []
    },
    {
      "cell_type": "code",
      "metadata": {
        "id": "olneayGx36TJ"
      },
      "source": [
        "## Compiling the Model"
      ],
      "execution_count": null,
      "outputs": []
    },
    {
      "cell_type": "code",
      "metadata": {
        "id": "JASvxT1L36Xn"
      },
      "source": [
        "opt = Adam(lr=0.01, beta_1=0.9, beta_2=0.999, decay=0.01)\n",
        "model.compile(optimizer=opt, loss='categorical_crossentropy', metrics=['accuracy'])"
      ],
      "execution_count": null,
      "outputs": []
    },
    {
      "cell_type": "code",
      "metadata": {
        "id": "I-zYrpmY36cJ"
      },
      "source": [
        "m = 60\n",
        "a0 = np.zeros((m, n_a))\n",
        "c0 = np.zeros((m, n_a))\n",
        "model.fit([X, a0, c0], list(Y), epochs=100)"
      ],
      "execution_count": null,
      "outputs": []
    },
    {
      "cell_type": "code",
      "metadata": {
        "id": "8fVOk0AF36gX"
      },
      "source": [
        ""
      ],
      "execution_count": null,
      "outputs": []
    },
    {
      "cell_type": "code",
      "metadata": {
        "id": "71LaE8Ct36pH"
      },
      "source": [
        "## Sampling & Predicting"
      ],
      "execution_count": null,
      "outputs": []
    },
    {
      "cell_type": "code",
      "metadata": {
        "id": "2coaune536st"
      },
      "source": [
        "def music_inference_model(LSTM_cell, densor, n_values = 78, n_a = 64, Ty = 100):\n",
        "   \n",
        "    x0 = Input(shape=(1, n_values))\n",
        "    \n",
        "    # Define s0, initial hidden state for the decoder LSTM\n",
        "    a0 = Input(shape=(n_a,), name='a0')\n",
        "    c0 = Input(shape=(n_a,), name='c0')\n",
        "    a = a0\n",
        "    c = c0\n",
        "    x = x0\n",
        "\n",
        "    outputs = []\n",
        "    \n",
        "    for t in range(Ty):\n",
        "        a, _, c = LSTM_cell(x, initial_state=[a, c])\n",
        "        out = densor(a)\n",
        "        outputs.append(out)\n",
        "        x = Lambda(one_hot)(out) \n",
        "    inference_model = Model(inputs= [x0,a0,c0], outputs=outputs)\n",
        "    \n",
        "    return inference_model"
      ],
      "execution_count": null,
      "outputs": []
    },
    {
      "cell_type": "code",
      "metadata": {
        "id": "NTflYFeA3605"
      },
      "source": [
        "inference_model = music_inference_model(LSTM_cell, densor, n_values = 78, n_a = 64, Ty = 50)\n",
        "inference_model.summary()"
      ],
      "execution_count": null,
      "outputs": []
    },
    {
      "cell_type": "code",
      "metadata": {
        "id": "kHEKE_Nc364x"
      },
      "source": [
        "x_initializer = np.zeros((1, 1, 78))\n",
        "a_initializer = np.zeros((1, n_a))\n",
        "c_initializer = np.zeros((1, n_a))"
      ],
      "execution_count": null,
      "outputs": []
    },
    {
      "cell_type": "code",
      "metadata": {
        "id": "sCBIINU4368-"
      },
      "source": [
        "def predict_and_sample(inference_model, x_initializer = x_initializer, a_initializer = a_initializer, \n",
        "                       c_initializer = c_initializer):\n",
        "    pred = inference_model.predict([x_initializer, a_initializer, c_initializer])\n",
        "    indices = np.argmax(pred, axis=-1)\n",
        "    results = to_categorical(indices)\n",
        "    return results, indices"
      ],
      "execution_count": null,
      "outputs": []
    },
    {
      "cell_type": "code",
      "metadata": {
        "id": "B7z7XPd537ER"
      },
      "source": [
        "results, indices = predict_and_sample(inference_model, x_initializer, a_initializer, c_initializer)"
      ],
      "execution_count": null,
      "outputs": []
    },
    {
      "cell_type": "code",
      "metadata": {
        "id": "Ln2EFwb_37Id"
      },
      "source": [
        ""
      ],
      "execution_count": null,
      "outputs": []
    },
    {
      "cell_type": "code",
      "metadata": {
        "id": "Sedmu3xV37QV"
      },
      "source": [
        "## Generating Music"
      ],
      "execution_count": null,
      "outputs": []
    },
    {
      "cell_type": "code",
      "metadata": {
        "id": "R141tFCL37UR"
      },
      "source": [
        "out_stream = generate_music(inference_model)\n",
        "IPython.display.Audio('./data/30s_trained_model.mp3')"
      ],
      "execution_count": null,
      "outputs": []
    },
    {
      "cell_type": "code",
      "metadata": {
        "id": "7KSwKUgG37YP"
      },
      "source": [
        ""
      ],
      "execution_count": null,
      "outputs": []
    }
  ]
}